{
 "cells": [
  {
   "cell_type": "code",
   "execution_count": 26,
   "metadata": {},
   "outputs": [],
   "source": [
    "import numpy as np\n",
    "import pandas as pd\n",
    "import random\n",
    "import matplotlib.pyplot as plt\n",
    "import random"
   ]
  },
  {
   "cell_type": "code",
   "execution_count": 27,
   "metadata": {},
   "outputs": [],
   "source": [
    "gamma = 0.8\n",
    "alpha = 1\n",
    "\n",
    "data = np.genfromtxt(\"DataTugasML3.txt\")\n",
    "data = data\n",
    "reward = data.tolist() #konversi menjadi list\n",
    "\n",
    "idx = []\n",
    "for i in np.arange(0.0,10.0,0.1):\n",
    "    idx.append(round(i,1)) #membuat float indeks\n",
    "\n",
    "q_matrix = np.zeros((4,100))\n",
    "q_matrix = pd.DataFrame(q_matrix,index=['N','E','W','S'],columns=idx) #q_matrix menggunakan indeks string & float"
   ]
  },
  {
   "cell_type": "code",
   "execution_count": 28,
   "metadata": {},
   "outputs": [],
   "source": [
    "#mengembalikan gerakan yang valid dilakukan pada suatu titik tertentu pada tabel\n",
    "def valid(go):\n",
    "    if (go==9.0):\n",
    "        return ['N','E']\n",
    "    elif (go==9.9):\n",
    "        return ['N','W']\n",
    "    elif (go==0.0):\n",
    "        return ['E','S']\n",
    "    elif (str(go)[0]=='9'):\n",
    "        return ['N','E','W']\n",
    "    elif (str(go)[0]=='0'):\n",
    "        return ['E','W','S']\n",
    "    elif (str(go)[2]=='0'):\n",
    "        return ['N','E','S']\n",
    "    elif (str(go)[2]=='9'):\n",
    "        return ['N','W','S']\n",
    "    else:\n",
    "        return ['N','E','W','S']"
   ]
  },
  {
   "cell_type": "code",
   "execution_count": 29,
   "metadata": {},
   "outputs": [],
   "source": [
    "#membuat koordinat berubah sesuah arah yang ada\n",
    "def move(now,go):\n",
    "    if go=='N':\n",
    "        return round((now-round(1.0,1)),1)\n",
    "    elif go=='E':\n",
    "        return round((now+round(0.1,1)),1)\n",
    "    elif go=='W':\n",
    "        return round((now-round(0.1,1)),1)\n",
    "    elif go=='S':\n",
    "        return round((now+round(1.0,1)),1)"
   ]
  },
  {
   "cell_type": "code",
   "execution_count": 30,
   "metadata": {},
   "outputs": [],
   "source": [
    "#perhitungan bellman pointer\n",
    "def countQ(r,q,lis):\n",
    "    return q + (alpha * (r + (gamma * (max(lis) - q))))"
   ]
  },
  {
   "cell_type": "code",
   "execution_count": 31,
   "metadata": {},
   "outputs": [],
   "source": [
    "#mengisi tabel Q\n",
    "def isiTabelQ(n):\n",
    "    #n adalah banyaknya episode yang dilakukan\n",
    "    for i in range(n):\n",
    "        start = round(9.0,1)\n",
    "        current = start\n",
    "        while (current!=round(0.9,1)): #akan berulang hingga sampai ke titik 0,9\n",
    "            action = random.choice(valid(current)) #generate random action\n",
    "            tujuan = move(current,action) #bergerak untuk mengambil nilai r\n",
    "            q = q_matrix[current][action] #nilai q untuk arah action\n",
    "            r = reward[int(str(tujuan)[0])][int(str(tujuan)[2])] #nilai r untuk arah action dari reward tujuan\n",
    "\n",
    "            temp=[]\n",
    "            for act in valid(current):\n",
    "                    temp.append(q_matrix[current][act]) #append nilai q kedalam list\n",
    "\n",
    "            q_matrix[current][action] = countQ(r,q,temp) #menghitung Q lalu assign pada tabel q untuk baris action\n",
    "            current = move(current,action) #current berganti dengan tujuan\n",
    "    print 'learning selesai'"
   ]
  },
  {
   "cell_type": "code",
   "execution_count": 32,
   "metadata": {},
   "outputs": [],
   "source": [
    "def jalanJalan():\n",
    "    path = []\n",
    "    rewardValue = 0\n",
    "    start = round(9.0,1) #posisi awal ada di koordinat 9,0\n",
    "    current = start\n",
    "    path.append(current)\n",
    "    \n",
    "    while (current!=round(0.9,1)): #akan berulang hingga sampai ke titik 0,9\n",
    "        q_state = {}\n",
    "        dec = 0.0\n",
    "        for action in valid(current): #melakukan aksi yang valid pada titik current\n",
    "            temp = [] #deklarasi list untuk menyimpan nilai q pada tiap gerakan\n",
    "            for act in valid(current):\n",
    "                temp.append(q_matrix[current][act]) #append nilai q\n",
    "\n",
    "            q = q_matrix[current][action] #nilai q untuk arah action\n",
    "            dec = move(current,action) #mengambil koordinat action\n",
    "            r = reward[int(str(dec)[0])][int(str(dec)[2])] #nilai r untuk arah action\n",
    "\n",
    "            q_state[action]= countQ(r,q,temp) #menghitung Q lalu assign pada tabel q untuk baris action\n",
    "\n",
    "        c = move(current,min(q_state)) #bergerak berdasarkan q_state maks\n",
    "        rewardValue += reward[int(str(c)[0])][int(str(c)[2])] #menghitung total reward\n",
    "        \n",
    "        current = c #current berganti dengan yang baru\n",
    "        path.append(current)\n",
    "        \n",
    "    print 'selesai dengan reward:',rewardValue\n",
    "    print path"
   ]
  },
  {
   "cell_type": "code",
   "execution_count": 33,
   "metadata": {},
   "outputs": [
    {
     "name": "stdout",
     "output_type": "stream",
     "text": [
      "learning selesai\n"
     ]
    }
   ],
   "source": [
    "isiTabelQ(1000)"
   ]
  },
  {
   "cell_type": "code",
   "execution_count": 34,
   "metadata": {},
   "outputs": [
    {
     "name": "stdout",
     "output_type": "stream",
     "text": [
      "selesai dengan reward: 46.0\n",
      "[9.0, 9.1, 9.2, 9.3, 9.4, 9.5, 9.6, 9.7, 9.8, 9.9, 8.9, 7.9, 6.9, 5.9, 4.9, 3.9, 2.9, 1.9, 0.9]\n"
     ]
    }
   ],
   "source": [
    "jalanJalan()"
   ]
  },
  {
   "cell_type": "code",
   "execution_count": null,
   "metadata": {},
   "outputs": [],
   "source": []
  }
 ],
 "metadata": {
  "kernelspec": {
   "display_name": "Python 2",
   "language": "python",
   "name": "python2"
  },
  "language_info": {
   "codemirror_mode": {
    "name": "ipython",
    "version": 2
   },
   "file_extension": ".py",
   "mimetype": "text/x-python",
   "name": "python",
   "nbconvert_exporter": "python",
   "pygments_lexer": "ipython2",
   "version": "2.7.14"
  }
 },
 "nbformat": 4,
 "nbformat_minor": 2
}
